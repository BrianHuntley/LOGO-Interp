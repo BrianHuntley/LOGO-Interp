{
 "cells": [
  {
   "cell_type": "code",
   "execution_count": 1,
   "metadata": {},
   "outputs": [],
   "source": [
    "from logo_interp_gram import parser\n",
    "from logo_lex import lexer\n",
    "from logo_state import state\n",
    "from grammar_stuff import dump_AST\n",
    "from logo_interp import interp"
   ]
  },
  {
   "cell_type": "markdown",
   "metadata": {},
   "source": [
    " Introduction- My project is an interpreter for the LOGO programming language. LOGO is a programming language that has variables, functions, and basic commands like many other languages, but the main thing that sets it apart is its drawing ability. The drawing feature operates by giving commands to a pen on the screen, known as the turtle. The turtle can be controlled around the screen by commands such as 'fd' to move forward a certain amount and 'rt' to rotate clockwise a specified amount of degrees.\n",
    " The LOGO programming language was created as an introductory programming language for children. The turtle is useful as it helps children visualize the code that they enter. The turtle feature gives children an easy and fun introduction to computer graphics, while teaching them important programming concepts, such as recursion."
   ]
  },
  {
   "cell_type": "markdown",
   "metadata": {},
   "source": [
    "Implementation- I made a few changes from the original language in my implementation, but I wanted to stay close to the original. The LOGO programming language uses dynamic scoping, but I decided to use static scoping in my version. I figured that since this language is designed to teach, I should use the type of scoping that is found in most modern programming languages. I also made function arguments separated by commas, instead of prepending a ':' in front of each argument. This was simply because I think it looks nicer. I could not find anywhere online what LOGO uses to denote comments, so I used '//'."
   ]
  },
  {
   "cell_type": "markdown",
   "metadata": {},
   "source": [
    "Challenges- The first challenge I faced was creating the grammar for the language. When I was looking into the LOGO programming language I quickly found out that there were plenty of different types of statements. I started by only implementing very basic commands, so I could have something to work off of. But I soon found that I needed more statements to increase the functionality of the language. If I could start over again I think I would spend more time building the first version of my grammar, instead of retroactively adding more and more features.\n",
    "\n",
    "Another problem I had was creating the function declarations. At first I was trying to create the end statements as if they were return statements. I was just overthinking this, because the end statement acts more like a closing bracket. Once I realized this it was a quick fix to get my function declarations to work.\n",
    "\n",
    "If I had more time I would try to add the more advanced turtle commands. There are different shapes that I could implement, such as drawing rectangles and squares. I would also like to add some mathematical functions such as sqrt, log, sin, cos, and tan. Adding these would allow for more complicated programs/drawings."
   ]
  },
  {
   "cell_type": "markdown",
   "metadata": {},
   "source": [
    "Examples:"
   ]
  },
  {
   "cell_type": "markdown",
   "metadata": {},
   "source": [
    "If statements"
   ]
  },
  {
   "cell_type": "code",
   "execution_count": 2,
   "metadata": {},
   "outputs": [],
   "source": [
    "p1 = \\\n",
    "'''\n",
    "//testing if statements\n",
    "x = 90\n",
    "\n",
    "if x == 80 [ \n",
    "    print 80 \n",
    "] \n",
    "\n",
    "if x == 90 [ \n",
    "    print 90 \n",
    "] \n",
    "'''"
   ]
  },
  {
   "cell_type": "markdown",
   "metadata": {},
   "source": [
    "Loops"
   ]
  },
  {
   "cell_type": "code",
   "execution_count": 3,
   "metadata": {},
   "outputs": [],
   "source": [
    "p2 = \\\n",
    "'''\n",
    "//Draws a stick figure\n",
    "cs\n",
    "circle 50\n",
    "pu\n",
    "lt 90\n",
    "fd 50\n",
    "lt 90\n",
    "fd 50\n",
    "pd\n",
    "setangle 180\n",
    "fd 50\n",
    "rt 115\n",
    "fd 100\n",
    "rt 25\n",
    "repeat 5 [\n",
    "    fd 15\n",
    "    bk 15\n",
    "    lt 15\n",
    "]\n",
    "setangle 115\n",
    "fd 100\n",
    "lt 50\n",
    "fd 100\n",
    "lt 25\n",
    "repeat 5 [\n",
    "    fd 15\n",
    "    bk 15\n",
    "    rt 15\n",
    "]\n",
    "setangle 245\n",
    "fd 100\n",
    "setangle 180\n",
    "fd 50\n",
    "rt 20\n",
    "fd 120\n",
    "bk 120\n",
    "lt 40\n",
    "fd 120\n",
    "'''"
   ]
  },
  {
   "cell_type": "markdown",
   "metadata": {},
   "source": [
    "Function declaration and calling"
   ]
  },
  {
   "cell_type": "code",
   "execution_count": 4,
   "metadata": {},
   "outputs": [],
   "source": [
    "p3 = \\\n",
    "'''\n",
    "//draws 5 stars, getting smaller each time.\n",
    "to star size\n",
    "    repeat 5 [ \n",
    "        fd size rt 144 \n",
    "        fd size lt 72 \n",
    "    ]\n",
    "end\n",
    "cs\n",
    "x = 250\n",
    "repeat 5 [\n",
    "    star: x\n",
    "    x = x-50\n",
    "]\n",
    "'''"
   ]
  },
  {
   "cell_type": "markdown",
   "metadata": {},
   "source": [
    "Recursion"
   ]
  },
  {
   "cell_type": "code",
   "execution_count": 5,
   "metadata": {},
   "outputs": [],
   "source": [
    "p4 = \\\n",
    "'''\n",
    "to tree size, sign\n",
    "  if size <= 1 [\n",
    "      stop\n",
    "  ]\n",
    "  fd size\n",
    "  rt 40*sign tree: size/2, sign*-1 lt 40*sign\n",
    "  fd size\n",
    "  lt 40*sign tree: size/2, sign rt 40*sign\n",
    "  tree: size-1, sign\n",
    "  bk size*2\n",
    "end\n",
    "cs pu bk 150 pd\n",
    "tree: 15, 1\n",
    "'''"
   ]
  },
  {
   "cell_type": "code",
   "execution_count": 6,
   "metadata": {},
   "outputs": [
    {
     "name": "stdout",
     "output_type": "stream",
     "text": [
      "90\n"
     ]
    }
   ],
   "source": [
    "interp(p1)"
   ]
  },
  {
   "cell_type": "code",
   "execution_count": 7,
   "metadata": {},
   "outputs": [],
   "source": [
    "interp(p2)"
   ]
  },
  {
   "cell_type": "code",
   "execution_count": 8,
   "metadata": {},
   "outputs": [],
   "source": [
    "interp(p3)"
   ]
  },
  {
   "cell_type": "code",
   "execution_count": 9,
   "metadata": {},
   "outputs": [],
   "source": [
    "interp(p4)"
   ]
  },
  {
   "cell_type": "markdown",
   "metadata": {},
   "source": [
    "Conclusion- I think that the LOGO language is great at teaching programming concepts. The turtle feature allows for some really neat drawings using recursive functions."
   ]
  }
 ],
 "metadata": {
  "kernelspec": {
   "display_name": "Python 3",
   "language": "python",
   "name": "python3"
  },
  "language_info": {
   "codemirror_mode": {
    "name": "ipython",
    "version": 3
   },
   "file_extension": ".py",
   "mimetype": "text/x-python",
   "name": "python",
   "nbconvert_exporter": "python",
   "pygments_lexer": "ipython3",
   "version": "3.8.5"
  }
 },
 "nbformat": 4,
 "nbformat_minor": 4
}
