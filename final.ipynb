{
 "cells": [
  {
   "cell_type": "code",
   "execution_count": 1,
   "metadata": {},
   "outputs": [],
   "source": [
    "from logo_interp_gram import parser\n",
    "from logo_lex import lexer\n",
    "from logo_state import state\n",
    "from grammar_stuff import dump_AST\n",
    "from logo_interp import interp"
   ]
  },
  {
   "cell_type": "code",
   "execution_count": 2,
   "metadata": {},
   "outputs": [],
   "source": [
    "p1 = \\\n",
    "'''\n",
    "x = 90\n",
    "\n",
    "if x == 80 [ \n",
    "    print 80 \n",
    "] \n",
    "\n",
    "if x == 90 [ \n",
    "    print 90 \n",
    "] \n",
    "'''"
   ]
  },
  {
   "cell_type": "code",
   "execution_count": 3,
   "metadata": {},
   "outputs": [],
   "source": [
    "p2 = \\\n",
    "'''\n",
    "//Draws a stick figure\n",
    "cs\n",
    "circle 50\n",
    "pu\n",
    "lt 90\n",
    "fd 50\n",
    "lt 90\n",
    "fd 50\n",
    "pd\n",
    "setangle 180\n",
    "fd 50\n",
    "rt 115\n",
    "fd 100\n",
    "rt 25\n",
    "repeat 5 [\n",
    "    fd 15\n",
    "    bk 15\n",
    "    lt 15\n",
    "]\n",
    "setangle 115\n",
    "fd 100\n",
    "lt 50\n",
    "fd 100\n",
    "lt 25\n",
    "repeat 5 [\n",
    "    fd 15\n",
    "    bk 15\n",
    "    rt 15\n",
    "]\n",
    "setangle 245\n",
    "fd 100\n",
    "setangle 180\n",
    "fd 50\n",
    "rt 20\n",
    "fd 120\n",
    "bk 120\n",
    "lt 40\n",
    "fd 120\n",
    "'''"
   ]
  },
  {
   "cell_type": "code",
   "execution_count": 4,
   "metadata": {},
   "outputs": [],
   "source": [
    "p3 = \\\n",
    "'''\n",
    "to star size\n",
    "    repeat 5 [ \n",
    "        fd size rt 144 \n",
    "        fd size lt 72 \n",
    "    ]\n",
    "end\n",
    "cs\n",
    "x = 250\n",
    "repeat 5 [\n",
    "    star : x\n",
    "    x = x-50\n",
    "]\n",
    "'''"
   ]
  },
  {
   "cell_type": "code",
   "execution_count": 5,
   "metadata": {},
   "outputs": [],
   "source": [
    "p4 = \\\n",
    "'''\n",
    "to tree size , sign\n",
    "  if size <= 1 [\n",
    "      stop\n",
    "  ]\n",
    "  fd size\n",
    "  rt 40*sign tree : size/2, sign*-1 lt 40*sign\n",
    "  fd size\n",
    "  lt 40*sign tree : size/2, sign rt 40*sign\n",
    "  tree : size-1, sign\n",
    "  bk size*2\n",
    "end\n",
    "cs pu bk 150 pd\n",
    "tree : 15, 1\n",
    "'''"
   ]
  },
  {
   "cell_type": "code",
   "execution_count": 6,
   "metadata": {},
   "outputs": [
    {
     "name": "stdout",
     "output_type": "stream",
     "text": [
      "90\n"
     ]
    }
   ],
   "source": [
    "interp(p1)"
   ]
  },
  {
   "cell_type": "code",
   "execution_count": 7,
   "metadata": {},
   "outputs": [],
   "source": [
    "interp(p2)"
   ]
  },
  {
   "cell_type": "code",
   "execution_count": 8,
   "metadata": {},
   "outputs": [],
   "source": [
    "interp(p3)"
   ]
  },
  {
   "cell_type": "code",
   "execution_count": 9,
   "metadata": {},
   "outputs": [],
   "source": [
    "interp(p4)"
   ]
  }
 ],
 "metadata": {
  "kernelspec": {
   "display_name": "Python 3",
   "language": "python",
   "name": "python3"
  },
  "language_info": {
   "codemirror_mode": {
    "name": "ipython",
    "version": 3
   },
   "file_extension": ".py",
   "mimetype": "text/x-python",
   "name": "python",
   "nbconvert_exporter": "python",
   "pygments_lexer": "ipython3",
   "version": "3.8.5"
  }
 },
 "nbformat": 4,
 "nbformat_minor": 4
}
