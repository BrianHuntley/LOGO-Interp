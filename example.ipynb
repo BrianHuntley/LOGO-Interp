{
 "cells": [
  {
   "cell_type": "code",
   "execution_count": 1,
   "metadata": {},
   "outputs": [],
   "source": [
    "from logo_interp_gram import parser\n",
    "from logo_lex import lexer\n",
    "from logo_state import state\n",
    "from grammar_stuff import dump_AST\n",
    "from logo_interp import interp"
   ]
  },
  {
   "cell_type": "code",
   "execution_count": 2,
   "metadata": {},
   "outputs": [],
   "source": [
    "program = \\\n",
    "'''\n",
    "to fern size, sign\n",
    "  if size <= 1 [\n",
    "      stop\n",
    "  ]\n",
    "  fd size\n",
    "  rt 40*sign fern: size/2, sign*-1 lt 40*sign\n",
    "  fd size\n",
    "  lt 40*sign fern: size/2, sign rt 40*sign\n",
    "  fern: size-3, sign\n",
    "  bk size*2\n",
    "end\n",
    "cs pu bk 150 pd\n",
    "setcolor 0 127 0\n",
    "fern: 25, 1\n",
    "\n",
    "//circle\n",
    "pu setangle 90 fd 400 pd\n",
    "setcolor 247 125 99\n",
    "repeat 34 [repeat 34 [fd 12 rt 10] rt 90]\n",
    "\n",
    "pu setx -400 pd\n",
    "setcolor 133 229 255\n",
    "repeat 8 [rt 45 repeat 6 [repeat 90 [fd 2 rt 2] rt 90]]\n",
    "'''"
   ]
  },
  {
   "cell_type": "code",
   "execution_count": 3,
   "metadata": {},
   "outputs": [],
   "source": [
    "interp(program)"
   ]
  }
 ],
 "metadata": {
  "kernelspec": {
   "display_name": "Python 3",
   "language": "python",
   "name": "python3"
  },
  "language_info": {
   "codemirror_mode": {
    "name": "ipython",
    "version": 3
   },
   "file_extension": ".py",
   "mimetype": "text/x-python",
   "name": "python",
   "nbconvert_exporter": "python",
   "pygments_lexer": "ipython3",
   "version": "3.8.5"
  }
 },
 "nbformat": 4,
 "nbformat_minor": 4
}
